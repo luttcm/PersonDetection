{
  "nbformat": 4,
  "nbformat_minor": 0,
  "metadata": {
    "colab": {
      "provenance": []
    },
    "kernelspec": {
      "name": "python3",
      "display_name": "Python 3"
    },
    "language_info": {
      "name": "python"
    }
  },
  "cells": [
    {
      "cell_type": "markdown",
      "source": [
        "## Импорт библиотек"
      ],
      "metadata": {
        "id": "TrfMtasmRnG6"
      }
    },
    {
      "cell_type": "code",
      "source": [
        "import cv2\n",
        "import numpy as np\n",
        "import time"
      ],
      "metadata": {
        "id": "rL0dvw5JROj-"
      },
      "execution_count": 3,
      "outputs": []
    },
    {
      "cell_type": "markdown",
      "source": [
        "Импортируем необходимые библиотеки: OpenCV для работы с видео и изображениями, NumPy для численных операций, time для измерения времени выполнения."
      ],
      "metadata": {
        "id": "WDJorAzZcln7"
      }
    },
    {
      "cell_type": "markdown",
      "source": [
        "## Инициализация объекта захвата видео"
      ],
      "metadata": {
        "id": "mtFqnZ59crcD"
      }
    },
    {
      "cell_type": "code",
      "source": [
        "video = cv2.VideoCapture('crowd.mp4')"
      ],
      "metadata": {
        "id": "k_kUKzmARSMf"
      },
      "execution_count": 4,
      "outputs": []
    },
    {
      "cell_type": "markdown",
      "source": [
        "## Загрузка меток классов COCO"
      ],
      "metadata": {
        "id": "S8nkK3fwdFza"
      }
    },
    {
      "cell_type": "code",
      "source": [
        "with open('coco.names') as f:\n",
        "    labels = [line.strip() for line in f]"
      ],
      "metadata": {
        "id": "DivOiURuR_CR"
      },
      "execution_count": 5,
      "outputs": []
    },
    {
      "cell_type": "markdown",
      "source": [
        "Загружаем названия классов из файла coco.names и сохраняем их в списке labels"
      ],
      "metadata": {
        "id": "npVBG9DvdH7K"
      }
    },
    {
      "cell_type": "markdown",
      "source": [
        "## Загрузка YOLO"
      ],
      "metadata": {
        "id": "ZYW4maoRc-rr"
      }
    },
    {
      "cell_type": "code",
      "source": [
        "network = cv2.dnn.readNet('yolov3.weights', 'yolov3.cfg')"
      ],
      "metadata": {
        "id": "jFJi7WNEV29Z"
      },
      "execution_count": 6,
      "outputs": []
    },
    {
      "cell_type": "markdown",
      "source": [
        "Загружаем yolov3 с использованием весов и конфигурационного файла"
      ],
      "metadata": {
        "id": "gtfxUNhodP8S"
      }
    },
    {
      "cell_type": "markdown",
      "source": [
        "## Получение имен выходных слоев"
      ],
      "metadata": {
        "id": "fj8zTtG8dZGL"
      }
    },
    {
      "cell_type": "code",
      "source": [
        "layers_names_all = network.getLayerNames()\n",
        "layers_names_output = [layers_names_all[i - 1] for i in network.getUnconnectedOutLayers()]"
      ],
      "metadata": {
        "id": "8Zn5SDWMdCn6"
      },
      "execution_count": null,
      "outputs": []
    },
    {
      "cell_type": "code",
      "source": [
        "#print()\n",
        "#print(layers_names_output)"
      ],
      "metadata": {
        "id": "yfdATaN2WBOC"
      },
      "execution_count": null,
      "outputs": []
    },
    {
      "cell_type": "markdown",
      "source": [
        "Получаем имена всех слоев сети и выделяем имена только выходных слоев, которые нам нужны для предсказаний."
      ],
      "metadata": {
        "id": "nCqqKJIcdm36"
      }
    },
    {
      "cell_type": "markdown",
      "source": [
        "Устанавливаем минимальную вероятность для устранения слабых предсказаний и порог для фильтрации слабых bounding boxes, также генерируем случайные цвета для представления каждого класса."
      ],
      "metadata": {
        "id": "wc7dRZQJdtax"
      }
    },
    {
      "cell_type": "code",
      "source": [
        "probability_minimum = 0.5\n",
        "threshold = 0.3\n",
        "colours = np.random.randint(0, 255, size=(len(labels), 3), dtype='uint8')"
      ],
      "metadata": {
        "id": "CWhGPsQMWJfR"
      },
      "execution_count": 8,
      "outputs": []
    },
    {
      "cell_type": "code",
      "source": [
        "#print(colours.shape)\n",
        "#print(colours[0])"
      ],
      "metadata": {
        "id": "1JFkDMO4SpGZ"
      },
      "execution_count": null,
      "outputs": []
    },
    {
      "cell_type": "markdown",
      "source": [
        "## Инициализация переменных"
      ],
      "metadata": {
        "id": "hfQS-ZRDd_fm"
      }
    },
    {
      "cell_type": "code",
      "source": [
        "f = 0\n",
        "t = 0\n",
        "writer = None\n",
        "w, h = None, None"
      ],
      "metadata": {
        "id": "ae0YX4o7RpYR"
      },
      "execution_count": 10,
      "outputs": []
    },
    {
      "cell_type": "markdown",
      "source": [
        " Инициализируем переменные для подсчета кадров, времени, объекта записи видео, а также ширины и высоты кадров."
      ],
      "metadata": {
        "id": "7kGo93VyeHiu"
      }
    },
    {
      "cell_type": "markdown",
      "source": [
        "## Цикл обработки кадров"
      ],
      "metadata": {
        "id": "YL_nhtWGeObT"
      }
    },
    {
      "cell_type": "code",
      "source": [
        "while True:\n",
        "    ret, frame = video.read()\n",
        "    if not ret:\n",
        "        break\n",
        "\n",
        "    if w is None or h is None:\n",
        "        h, w = frame.shape[:2] #Читаем кадры из видео в цикле. Если кадр не был прочитан (например, конец видео), выходим из цикла. Устанавливаем ширину и высоту кадров, если они еще не были инициализированы.\n",
        "\n",
        "    blob = cv2.dnn.blobFromImage(frame, 1 / 255.0, (416, 416), swapRB=True, crop=False)\n",
        "    network.setInput(blob) #Создаем blob из текущего кадра и устанавливаем его в качестве входного для сети.\n",
        "\n",
        "    start = time.time()\n",
        "    output_from_network = network.forward(layers_names_output)\n",
        "    end = time.time()\n",
        "\n",
        "    f += 1\n",
        "    t += end - start\n",
        "\n",
        "    print(f'Frame number {f} took {end - start:.5f} seconds') #Выполняем прямой проход через сеть и измеряем время, затраченное на обработку кадра. Увеличиваем счетчики кадров и времени.\n",
        "\n",
        "    bounding_boxes = []\n",
        "    confidences = []\n",
        "    classIDs = []\n",
        "\n",
        "    for result in output_from_network:\n",
        "        for detected_objects in result:\n",
        "            scores = detected_objects[5:]\n",
        "            class_current = np.argmax(scores)\n",
        "            confidence_current = scores[class_current]\n",
        "\n",
        "            if confidence_current > probability_minimum:\n",
        "                box_current = detected_objects[0:4] * np.array([w, h, w, h])\n",
        "                x_center, y_center, box_width, box_height = box_current\n",
        "                x_min = int(x_center - (box_width / 2))\n",
        "                y_min = int(y_center - (box_height / 2))\n",
        "\n",
        "                bounding_boxes.append([x_min, y_min, int(box_width), int(box_height)])\n",
        "                confidences.append(float(confidence_current))\n",
        "                classIDs.append(class_current) #Извлекаем bounding boxes, уверенности и классы для каждого обнаруженного объекта. Фильтруем слабые предсказания на основе минимальной уверенности.\n",
        "\n",
        "    results = cv2.dnn.NMSBoxes(bounding_boxes, confidences, probability_minimum, threshold) #Применяем non-maximum suppression для удаления лишних bounding boxes.\n",
        "\n",
        "    if len(results) > 0:\n",
        "        for i in results.flatten():\n",
        "            if classIDs[i] == 0:\n",
        "                x_min, y_min = bounding_boxes[i][0], bounding_boxes[i][1]\n",
        "                box_width, box_height = bounding_boxes[i][2], bounding_boxes[i][3]\n",
        "                colour_box_current = colours[classIDs[i]].tolist()\n",
        "\n",
        "                cv2.rectangle(frame, (x_min, y_min), (x_min + box_width, y_min + box_height), colour_box_current, 2)\n",
        "                text_box_current = f'{labels[0]}: {confidences[i]:.4f}'\n",
        "                cv2.putText(frame, text_box_current, (x_min, y_min - 5), cv2.FONT_HERSHEY_SIMPLEX, 0.5, colour_box_current, 2) #Рисуем bounding boxes и метки на кадре только для объектов класса \"человек\" (class ID 0).\n",
        "\n",
        "    if writer is None:\n",
        "        fourcc = cv2.VideoWriter_fourcc(*'mp4v')\n",
        "        writer = cv2.VideoWriter('submit.mp4', fourcc, 30, (frame.shape[1], frame.shape[0]), True)\n",
        "\n",
        "    writer.write(frame) #Создаем объект VideoWriter для записи выходного видео, если он еще не был создан. Записываем текущий кадр в выходное видео."
      ],
      "metadata": {
        "id": "dIschZrDWS4z"
      },
      "execution_count": null,
      "outputs": []
    },
    {
      "cell_type": "markdown",
      "source": [
        "Освобождаем ресурсы и выводим общую информацию о количестве обработанных кадров, затраченном времени и fps."
      ],
      "metadata": {
        "id": "i-YDrrgFfNJV"
      }
    },
    {
      "cell_type": "code",
      "source": [
        "video.release()\n",
        "writer.release()\n",
        "\n",
        "print(f'Total number of frames: {f}')\n",
        "print(f'Total amount of time: {t:.5f} seconds')\n",
        "print(f'FPS: {round(f / t, 1)}')"
      ],
      "metadata": {
        "id": "5SrtF8NZR3oJ"
      },
      "execution_count": null,
      "outputs": []
    }
  ]
}